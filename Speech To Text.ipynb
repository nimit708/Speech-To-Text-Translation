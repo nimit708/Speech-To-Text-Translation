{
    "cells": [
        {
            "cell_type": "code",
            "execution_count": 3,
            "metadata": {},
            "outputs": [
                {
                    "name": "stdout",
                    "output_type": "stream",
                    "text": "Collecting wget\n  Downloading https://files.pythonhosted.org/packages/47/6a/62e288da7bcda82b935ff0c6cfe542970f04e29c756b0e147251b2fb251f/wget-3.2.zip\nCollecting ibm_watson\n\u001b[?25l  Downloading https://files.pythonhosted.org/packages/45/5a/b70fef1c924422b9731b6ec95018a84e0d66868dd5b4a92e04a211ffe9bb/ibm-watson-4.6.0.tar.gz (384kB)\n\u001b[K     |\u2588\u2588\u2588\u2588\u2588\u2588\u2588\u2588\u2588\u2588\u2588\u2588\u2588\u2588\u2588\u2588\u2588\u2588\u2588\u2588\u2588\u2588\u2588\u2588\u2588\u2588\u2588\u2588\u2588\u2588\u2588\u2588| 389kB 13.4MB/s eta 0:00:01\n\u001b[?25hRequirement already satisfied: requests<3.0,>=2.0 in /opt/conda/envs/Python36/lib/python3.6/site-packages (from ibm_watson) (2.21.0)\nRequirement already satisfied: python_dateutil>=2.5.3 in /opt/conda/envs/Python36/lib/python3.6/site-packages (from ibm_watson) (2.7.5)\nCollecting websocket-client==0.48.0 (from ibm_watson)\n\u001b[?25l  Downloading https://files.pythonhosted.org/packages/8a/a1/72ef9aa26cfe1a75cee09fc1957e4723add9de098c15719416a1ee89386b/websocket_client-0.48.0-py2.py3-none-any.whl (198kB)\n\u001b[K     |\u2588\u2588\u2588\u2588\u2588\u2588\u2588\u2588\u2588\u2588\u2588\u2588\u2588\u2588\u2588\u2588\u2588\u2588\u2588\u2588\u2588\u2588\u2588\u2588\u2588\u2588\u2588\u2588\u2588\u2588\u2588\u2588| 204kB 32.3MB/s eta 0:00:01\n\u001b[?25hCollecting ibm_cloud_sdk_core==1.5.1 (from ibm_watson)\n  Downloading https://files.pythonhosted.org/packages/b7/f6/10d5271c807d73d236e6ae07b68035fed78b28b5ab836704d34097af3986/ibm-cloud-sdk-core-1.5.1.tar.gz\nRequirement already satisfied: certifi>=2017.4.17 in /opt/conda/envs/Python36/lib/python3.6/site-packages (from requests<3.0,>=2.0->ibm_watson) (2020.6.20)\nRequirement already satisfied: chardet<3.1.0,>=3.0.2 in /opt/conda/envs/Python36/lib/python3.6/site-packages (from requests<3.0,>=2.0->ibm_watson) (3.0.4)\nRequirement already satisfied: idna<2.9,>=2.5 in /opt/conda/envs/Python36/lib/python3.6/site-packages (from requests<3.0,>=2.0->ibm_watson) (2.8)\nRequirement already satisfied: urllib3<1.25,>=1.21.1 in /opt/conda/envs/Python36/lib/python3.6/site-packages (from requests<3.0,>=2.0->ibm_watson) (1.24.1)\nRequirement already satisfied: six>=1.5 in /opt/conda/envs/Python36/lib/python3.6/site-packages (from python_dateutil>=2.5.3->ibm_watson) (1.12.0)\nCollecting PyJWT>=1.7.1 (from ibm_cloud_sdk_core==1.5.1->ibm_watson)\n  Downloading https://files.pythonhosted.org/packages/87/8b/6a9f14b5f781697e51259d81657e6048fd31a113229cf346880bb7545565/PyJWT-1.7.1-py2.py3-none-any.whl\nBuilding wheels for collected packages: wget, ibm-watson, ibm-cloud-sdk-core\n  Building wheel for wget (setup.py) ... \u001b[?25ldone\n\u001b[?25h  Stored in directory: /home/dsxuser/.cache/pip/wheels/40/15/30/7d8f7cea2902b4db79e3fea550d7d7b85ecb27ef992b618f3f\n  Building wheel for ibm-watson (setup.py) ... \u001b[?25ldone\n\u001b[?25h  Stored in directory: /home/dsxuser/.cache/pip/wheels/6d/9c/2e/81ed7df08bc31051ab54e541cbdf9a8979256edc8261f8f71f\n  Building wheel for ibm-cloud-sdk-core (setup.py) ... \u001b[?25ldone\n\u001b[?25h  Stored in directory: /home/dsxuser/.cache/pip/wheels/6a/42/50/f96888116b329578304f9dda4693cef6f3e76e18272d22cb6c\nSuccessfully built wget ibm-watson ibm-cloud-sdk-core\nInstalling collected packages: wget, websocket-client, PyJWT, ibm-cloud-sdk-core, ibm-watson\nSuccessfully installed PyJWT-1.7.1 ibm-cloud-sdk-core-1.5.1 ibm-watson-4.6.0 websocket-client-0.48.0 wget-3.2\n"
                }
            ],
            "source": "!pip install wget ibm_watson wget\n"
        },
        {
            "cell_type": "code",
            "execution_count": 5,
            "metadata": {},
            "outputs": [],
            "source": "from ibm_watson import SpeechToTextV1\nimport json\nfrom ibm_cloud_sdk_core.authenticators import IAMAuthenticator"
        },
        {
            "cell_type": "code",
            "execution_count": 6,
            "metadata": {},
            "outputs": [],
            "source": "# Get the url and the api key of the SpeechToText service created in ibm cloud\nurl_speechToText = \"https://api.eu-gb.speech-to-text.watson.cloud.ibm.com/instances/21180c35-b424-464b-8032-d43a96743a35\""
        },
        {
            "cell_type": "code",
            "execution_count": 7,
            "metadata": {},
            "outputs": [],
            "source": "api_key_speechToText = \"K4Vppq8Cg_hn1XWpQ9kPCc3-hmo8YIRuHF61wwZjpDuo\""
        },
        {
            "cell_type": "code",
            "execution_count": 9,
            "metadata": {},
            "outputs": [
                {
                    "data": {
                        "text/plain": "<ibm_watson.speech_to_text_v1_adapter.SpeechToTextV1Adapter at 0x7f519e9b8cc0>"
                    },
                    "execution_count": 9,
                    "metadata": {},
                    "output_type": "execute_result"
                }
            ],
            "source": "# Create an instance of speech to text service\n# For that we will need to make an authenticated request to get access to watson services  \nauthenticator = IAMAuthenticator(api_key_speechToText)\nspeech_to_text_instance = SpeechToTextV1(authenticator=authenticator)\nspeech_to_text_instance.set_service_url(url_speechToText)\nspeech_to_text_instance"
        },
        {
            "cell_type": "code",
            "execution_count": 10,
            "metadata": {},
            "outputs": [
                {
                    "name": "stdout",
                    "output_type": "stream",
                    "text": "--2020-08-30 13:06:05--  https://s3-api.us-geo.objectstorage.softlayer.net/cf-courses-data/CognitiveClass/PY0101EN/labs/PolynomialRegressionandPipelines.mp3\nResolving s3-api.us-geo.objectstorage.softlayer.net (s3-api.us-geo.objectstorage.softlayer.net)... 67.228.254.196\nConnecting to s3-api.us-geo.objectstorage.softlayer.net (s3-api.us-geo.objectstorage.softlayer.net)|67.228.254.196|:443... connected.\nHTTP request sent, awaiting response... 200 OK\nLength: 4234179 (4.0M) [audio/mpeg]\nSaving to: \u2018PolynomialRegressionandPipelines.mp3\u2019\n\n100%[======================================>] 4,234,179    806KB/s   in 4.9s   \n\n2020-08-30 13:06:10 (851 KB/s) - \u2018PolynomialRegressionandPipelines.mp3\u2019 saved [4234179/4234179]\n\n"
                }
            ],
            "source": "#Now we need to get the audio file that we will use for the conversion\n!wget -O PolynomialRegressionandPipelines.mp3  https://s3-api.us-geo.objectstorage.softlayer.net/cf-courses-data/CognitiveClass/PY0101EN/labs/PolynomialRegressionandPipelines.mp3"
        },
        {
            "cell_type": "code",
            "execution_count": 11,
            "metadata": {},
            "outputs": [],
            "source": "file = \"PolynomialRegressionandPipelines.mp3\""
        },
        {
            "cell_type": "code",
            "execution_count": 13,
            "metadata": {},
            "outputs": [],
            "source": "with open(file, mode = 'rb') as f:\n    speech_text = speech_to_text_instance.recognize(audio=f, content_type='audio/mp3')"
        },
        {
            "cell_type": "code",
            "execution_count": 18,
            "metadata": {},
            "outputs": [
                {
                    "data": {
                        "text/plain": "<ibm_cloud_sdk_core.detailed_response.DetailedResponse at 0x7f519e2a4978>"
                    },
                    "execution_count": 18,
                    "metadata": {},
                    "output_type": "execute_result"
                }
            ],
            "source": "speech_text"
        },
        {
            "cell_type": "code",
            "execution_count": 16,
            "metadata": {},
            "outputs": [
                {
                    "data": {
                        "text/plain": "{'result_index': 0,\n 'results': [{'final': True,\n   'alternatives': [{'transcript': 'in this video we will cover polynomial regression and pipelines ',\n     'confidence': 0.94}]},\n  {'final': True,\n   'alternatives': [{'transcript': \"what do we do when a linear model is not the best fit for our data let's look into another type of regression model the polynomial regression we transform our data into a polynomial then use linear regression to fit the parameters that we will discuss pipelines pipelines are way to simplify your code \",\n     'confidence': 0.9}]},\n  {'final': True,\n   'alternatives': [{'transcript': \"polynomial regression is a special case of the general linear regression this method is beneficial for describing curvilinear relationships what is a curvilinear relationship it's what you get by squaring or setting higher order terms of the predictor variables in the model transforming the data the model can be quadratic which means the predictor variable in the model is squared we use a bracket to indicated as an exponent this is the second order polynomial regression with a figure representing the function \",\n     'confidence': 0.95}]},\n  {'final': True,\n   'alternatives': [{'transcript': 'the model can be cubic which means the predictor variable is cute this is the third order polynomial regression we see by examining the figure that the function has more variation ',\n     'confidence': 0.95}]},\n  {'final': True,\n   'alternatives': [{'transcript': \"there also exists higher order polynomial regressions when a good fit hasn't been achieved by second or third order we can see in figures how much the graphs change when we change the order of the polynomial regression the degree of the regression makes a big difference and can result in a better fit if you pick the right value in all cases the relationship between the variable in the parameter is always linear \",\n     'confidence': 0.91}]},\n  {'final': True,\n   'alternatives': [{'transcript': \"let's look at an example from our data we generate a polynomial regression model \",\n     'confidence': 0.89}]},\n  {'final': True,\n   'alternatives': [{'transcript': 'in python we do this by using the poly fit function in this example we develop a third order polynomial regression model base we can print out the model symbolic form for the model is given by the following expression ',\n     'confidence': 0.92}]},\n  {'final': True,\n   'alternatives': [{'transcript': \"negative one point five five seven X. one cute plus two hundred four point eight X. one squared plus eight thousand nine hundred sixty five X. one plus one point three seven times ten to the power of five we can also have multi dimensional polynomial linear regression the expression can get complicated here are just some of the terms for two dimensional second order polynomial none pies poly fit function cannot perform this type of regression we use the preprocessing librarian scikit learn to create a polynomial feature object the constructor takes the degree of the polynomial as a parameter then we transform the features into a polynomial feature with the fit underscore transform method let's do a more intuitive example \",\n     'confidence': 0.9}]},\n  {'final': True,\n   'alternatives': [{'transcript': 'consider the feature shown here applying the method we transform the data we now have a new set of features that are transformed version of our original features as that I mention of the data gets larger we may want to normalize multiple features as scikit learn instead we can use the preprocessing module to simplify many tasks for example we can standardize each feature simultaneously we import standard scaler we train the object fit the scale object then transform the data into a new data frame on a rate X. underscore scale there are more normalization methods available in the pre processing library as well as other transformations we can simplify our code by using a pipeline library there are many steps to getting a prediction for example normalization polynomial transform and linear regression we simplify the process using a pipeline ',\n     'confidence': 0.9}]},\n  {'final': True,\n   'alternatives': [{'transcript': 'pipeline sequentially perform a series of transformations the last step carries out a prediction first we import all the modules we need then we import the library pipeline we create a list of topples the first element in the topple contains the name of the estimator model the second element contains model constructor we input the list in the pipeline constructor we now have a pipeline object we can train the pipeline by applying the train method to the pipeline object we can also produce a prediction as well ',\n     'confidence': 0.89}]},\n  {'final': True,\n   'alternatives': [{'transcript': 'the method normalizes the data performs a polynomial transform then outputs a prediction ',\n     'confidence': 0.89}]}]}"
                    },
                    "execution_count": 16,
                    "metadata": {},
                    "output_type": "execute_result"
                }
            ],
            "source": "#The attribute result of the object type DetailedResponse has stored the text in the for of a dictionary\nspeech_text.result"
        },
        {
            "cell_type": "code",
            "execution_count": 19,
            "metadata": {},
            "outputs": [],
            "source": "# We know that while accessing API, we get the result as JSON type data\n# We now need to convert the JSON type data into a table using json_normalise"
        },
        {
            "cell_type": "code",
            "execution_count": 35,
            "metadata": {},
            "outputs": [
                {
                    "data": {
                        "text/html": "<div>\n<style scoped>\n    .dataframe tbody tr th:only-of-type {\n        vertical-align: middle;\n    }\n\n    .dataframe tbody tr th {\n        vertical-align: top;\n    }\n\n    .dataframe thead th {\n        text-align: right;\n    }\n</style>\n<table border=\"1\" class=\"dataframe\">\n  <thead>\n    <tr style=\"text-align: right;\">\n      <th></th>\n      <th>confidence</th>\n      <th>transcript</th>\n    </tr>\n  </thead>\n  <tbody>\n    <tr>\n      <th>0</th>\n      <td>0.94</td>\n      <td>in this video we will cover polynomial regress...</td>\n    </tr>\n    <tr>\n      <th>1</th>\n      <td>0.90</td>\n      <td>what do we do when a linear model is not the b...</td>\n    </tr>\n    <tr>\n      <th>2</th>\n      <td>0.95</td>\n      <td>polynomial regression is a special case of the...</td>\n    </tr>\n    <tr>\n      <th>3</th>\n      <td>0.95</td>\n      <td>the model can be cubic which means the predict...</td>\n    </tr>\n    <tr>\n      <th>4</th>\n      <td>0.91</td>\n      <td>there also exists higher order polynomial regr...</td>\n    </tr>\n    <tr>\n      <th>5</th>\n      <td>0.89</td>\n      <td>let's look at an example from our data we gene...</td>\n    </tr>\n    <tr>\n      <th>6</th>\n      <td>0.92</td>\n      <td>in python we do this by using the poly fit fun...</td>\n    </tr>\n    <tr>\n      <th>7</th>\n      <td>0.90</td>\n      <td>negative one point five five seven X. one cute...</td>\n    </tr>\n    <tr>\n      <th>8</th>\n      <td>0.90</td>\n      <td>consider the feature shown here applying the m...</td>\n    </tr>\n    <tr>\n      <th>9</th>\n      <td>0.89</td>\n      <td>pipeline sequentially perform a series of tran...</td>\n    </tr>\n    <tr>\n      <th>10</th>\n      <td>0.89</td>\n      <td>the method normalizes the data performs a poly...</td>\n    </tr>\n  </tbody>\n</table>\n</div>",
                        "text/plain": "    confidence                                         transcript\n0         0.94  in this video we will cover polynomial regress...\n1         0.90  what do we do when a linear model is not the b...\n2         0.95  polynomial regression is a special case of the...\n3         0.95  the model can be cubic which means the predict...\n4         0.91  there also exists higher order polynomial regr...\n5         0.89  let's look at an example from our data we gene...\n6         0.92  in python we do this by using the poly fit fun...\n7         0.90  negative one point five five seven X. one cute...\n8         0.90  consider the feature shown here applying the m...\n9         0.89  pipeline sequentially perform a series of tran...\n10        0.89  the method normalizes the data performs a poly..."
                    },
                    "execution_count": 35,
                    "metadata": {},
                    "output_type": "execute_result"
                }
            ],
            "source": "from pandas.io.json import json_normalize\n\ndf = json_normalize(speech_text.result['results'],\"alternatives\")\ndf"
        },
        {
            "cell_type": "code",
            "execution_count": 43,
            "metadata": {},
            "outputs": [
                {
                    "data": {
                        "text/plain": "\"in this video we will cover polynomial regression and pipelines what do we do when a linear model is not the best fit for our data let's look into another type of regression model the polynomial regression we transform our data into a polynomial then use linear regression to fit the parameters that we will discuss pipelines pipelines are way to simplify your code polynomial regression is a special case of the general linear regression this method is beneficial for describing curvilinear relationships what is a curvilinear relationship it's what you get by squaring or setting higher order terms of the predictor variables in the model transforming the data the model can be quadratic which means the predictor variable in the model is squared we use a bracket to indicated as an exponent this is the second order polynomial regression with a figure representing the function the model can be cubic which means the predictor variable is cute this is the third order polynomial regression we see by examining the figure that the function has more variation there also exists higher order polynomial regressions when a good fit hasn't been achieved by second or third order we can see in figures how much the graphs change when we change the order of the polynomial regression the degree of the regression makes a big difference and can result in a better fit if you pick the right value in all cases the relationship between the variable in the parameter is always linear let's look at an example from our data we generate a polynomial regression model in python we do this by using the poly fit function in this example we develop a third order polynomial regression model base we can print out the model symbolic form for the model is given by the following expression negative one point five five seven X. one cute plus two hundred four point eight X. one squared plus eight thousand nine hundred sixty five X. one plus one point three seven times ten to the power of five we can also have multi dimensional polynomial linear regression the expression can get complicated here are just some of the terms for two dimensional second order polynomial none pies poly fit function cannot perform this type of regression we use the preprocessing librarian scikit learn to create a polynomial feature object the constructor takes the degree of the polynomial as a parameter then we transform the features into a polynomial feature with the fit underscore transform method let's do a more intuitive example consider the feature shown here applying the method we transform the data we now have a new set of features that are transformed version of our original features as that I mention of the data gets larger we may want to normalize multiple features as scikit learn instead we can use the preprocessing module to simplify many tasks for example we can standardize each feature simultaneously we import standard scaler we train the object fit the scale object then transform the data into a new data frame on a rate X. underscore scale there are more normalization methods available in the pre processing library as well as other transformations we can simplify our code by using a pipeline library there are many steps to getting a prediction for example normalization polynomial transform and linear regression we simplify the process using a pipeline pipeline sequentially perform a series of transformations the last step carries out a prediction first we import all the modules we need then we import the library pipeline we create a list of topples the first element in the topple contains the name of the estimator model the second element contains model constructor we input the list in the pipeline constructor we now have a pipeline object we can train the pipeline by applying the train method to the pipeline object we can also produce a prediction as well the method normalizes the data performs a polynomial transform then outputs a prediction \""
                    },
                    "execution_count": 43,
                    "metadata": {},
                    "output_type": "execute_result"
                }
            ],
            "source": "recognised_text = df['transcript']\nrecog_string = ''\nfor i in range(0,11):\n    recog_string = recog_string + df['transcript'][i]\n    \nrecog_string"
        },
        {
            "cell_type": "code",
            "execution_count": 25,
            "metadata": {},
            "outputs": [],
            "source": "# Let's use a language translator service \nfrom ibm_watson import LanguageTranslatorV3"
        },
        {
            "cell_type": "code",
            "execution_count": 26,
            "metadata": {},
            "outputs": [],
            "source": "# Get the url and the api required to connect it with the service instance\nlanguage_translator_url = \"https://api.eu-gb.language-translator.watson.cloud.ibm.com/instances/5496efd7-6088-4c81-b4eb-b9223d14de47\""
        },
        {
            "cell_type": "code",
            "execution_count": 27,
            "metadata": {},
            "outputs": [],
            "source": "api_key_language_translator = \"UsKPou2q-dpDZhe_DdRVrFk7N-UZW7TcApArY8DBagxb\""
        },
        {
            "cell_type": "code",
            "execution_count": 47,
            "metadata": {},
            "outputs": [],
            "source": "#We alse need to mention the version number\nversion_no = '2020-08-14'"
        },
        {
            "cell_type": "code",
            "execution_count": 48,
            "metadata": {},
            "outputs": [
                {
                    "data": {
                        "text/plain": "<ibm_watson.language_translator_v3.LanguageTranslatorV3 at 0x7f519b3357f0>"
                    },
                    "execution_count": 48,
                    "metadata": {},
                    "output_type": "execute_result"
                }
            ],
            "source": "# Create an instance of language translator\n# For that we will need to make an authenticated request to get access to watson services  \nauthenticator = IAMAuthenticator(api_key_language_translator)\nlang_translator = LanguageTranslatorV3(version = version_no,authenticator=authenticator)\nlang_translator.set_service_url(language_translator_url)\nlang_translator"
        },
        {
            "cell_type": "code",
            "execution_count": 50,
            "metadata": {},
            "outputs": [
                {
                    "data": {
                        "text/html": "<div>\n<style scoped>\n    .dataframe tbody tr th:only-of-type {\n        vertical-align: middle;\n    }\n\n    .dataframe tbody tr th {\n        vertical-align: top;\n    }\n\n    .dataframe thead th {\n        text-align: right;\n    }\n</style>\n<table border=\"1\" class=\"dataframe\">\n  <thead>\n    <tr style=\"text-align: right;\">\n      <th></th>\n      <th>language</th>\n      <th>name</th>\n    </tr>\n  </thead>\n  <tbody>\n    <tr>\n      <th>0</th>\n      <td>af</td>\n      <td>Afrikaans</td>\n    </tr>\n    <tr>\n      <th>1</th>\n      <td>ar</td>\n      <td>Arabic</td>\n    </tr>\n    <tr>\n      <th>2</th>\n      <td>az</td>\n      <td>Azerbaijani</td>\n    </tr>\n    <tr>\n      <th>3</th>\n      <td>ba</td>\n      <td>Bashkir</td>\n    </tr>\n    <tr>\n      <th>4</th>\n      <td>be</td>\n      <td>Belarusian</td>\n    </tr>\n    <tr>\n      <th>5</th>\n      <td>bg</td>\n      <td>Bulgarian</td>\n    </tr>\n    <tr>\n      <th>6</th>\n      <td>bn</td>\n      <td>Bengali</td>\n    </tr>\n    <tr>\n      <th>7</th>\n      <td>ca</td>\n      <td>Catalan</td>\n    </tr>\n    <tr>\n      <th>8</th>\n      <td>cs</td>\n      <td>Czech</td>\n    </tr>\n    <tr>\n      <th>9</th>\n      <td>cv</td>\n      <td>Chuvash</td>\n    </tr>\n    <tr>\n      <th>10</th>\n      <td>cy</td>\n      <td>Welsh</td>\n    </tr>\n    <tr>\n      <th>11</th>\n      <td>da</td>\n      <td>Danish</td>\n    </tr>\n    <tr>\n      <th>12</th>\n      <td>de</td>\n      <td>German</td>\n    </tr>\n    <tr>\n      <th>13</th>\n      <td>el</td>\n      <td>Greek</td>\n    </tr>\n    <tr>\n      <th>14</th>\n      <td>en</td>\n      <td>English</td>\n    </tr>\n    <tr>\n      <th>15</th>\n      <td>eo</td>\n      <td>Esperanto</td>\n    </tr>\n    <tr>\n      <th>16</th>\n      <td>es</td>\n      <td>Spanish</td>\n    </tr>\n    <tr>\n      <th>17</th>\n      <td>et</td>\n      <td>Estonian</td>\n    </tr>\n    <tr>\n      <th>18</th>\n      <td>eu</td>\n      <td>Basque</td>\n    </tr>\n    <tr>\n      <th>19</th>\n      <td>fa</td>\n      <td>Persian</td>\n    </tr>\n    <tr>\n      <th>20</th>\n      <td>fi</td>\n      <td>Finnish</td>\n    </tr>\n    <tr>\n      <th>21</th>\n      <td>fr</td>\n      <td>French</td>\n    </tr>\n    <tr>\n      <th>22</th>\n      <td>ga</td>\n      <td>Irish</td>\n    </tr>\n    <tr>\n      <th>23</th>\n      <td>gu</td>\n      <td>Gujarati</td>\n    </tr>\n    <tr>\n      <th>24</th>\n      <td>he</td>\n      <td>Hebrew</td>\n    </tr>\n    <tr>\n      <th>25</th>\n      <td>hi</td>\n      <td>Hindi</td>\n    </tr>\n    <tr>\n      <th>26</th>\n      <td>hr</td>\n      <td>Croatian</td>\n    </tr>\n    <tr>\n      <th>27</th>\n      <td>ht</td>\n      <td>Haitian</td>\n    </tr>\n    <tr>\n      <th>28</th>\n      <td>hu</td>\n      <td>Hungarian</td>\n    </tr>\n    <tr>\n      <th>29</th>\n      <td>hy</td>\n      <td>Armenian</td>\n    </tr>\n    <tr>\n      <th>...</th>\n      <td>...</td>\n      <td>...</td>\n    </tr>\n    <tr>\n      <th>46</th>\n      <td>mt</td>\n      <td>Maltese</td>\n    </tr>\n    <tr>\n      <th>47</th>\n      <td>my</td>\n      <td>Burmese</td>\n    </tr>\n    <tr>\n      <th>48</th>\n      <td>nb</td>\n      <td>Norwegian Bokmal</td>\n    </tr>\n    <tr>\n      <th>49</th>\n      <td>ne</td>\n      <td>Nepali</td>\n    </tr>\n    <tr>\n      <th>50</th>\n      <td>nl</td>\n      <td>Dutch</td>\n    </tr>\n    <tr>\n      <th>51</th>\n      <td>nn</td>\n      <td>Norwegian Nynorsk</td>\n    </tr>\n    <tr>\n      <th>52</th>\n      <td>pa</td>\n      <td>Punjabi</td>\n    </tr>\n    <tr>\n      <th>53</th>\n      <td>pa-PK</td>\n      <td>Punjabi (Shahmukhi script, Pakistan)</td>\n    </tr>\n    <tr>\n      <th>54</th>\n      <td>pl</td>\n      <td>Polish</td>\n    </tr>\n    <tr>\n      <th>55</th>\n      <td>ps</td>\n      <td>Pushto</td>\n    </tr>\n    <tr>\n      <th>56</th>\n      <td>pt</td>\n      <td>Portuguese</td>\n    </tr>\n    <tr>\n      <th>57</th>\n      <td>ro</td>\n      <td>Romanian</td>\n    </tr>\n    <tr>\n      <th>58</th>\n      <td>ru</td>\n      <td>Russian</td>\n    </tr>\n    <tr>\n      <th>59</th>\n      <td>si</td>\n      <td>Sinhala</td>\n    </tr>\n    <tr>\n      <th>60</th>\n      <td>sk</td>\n      <td>Slovakian</td>\n    </tr>\n    <tr>\n      <th>61</th>\n      <td>sl</td>\n      <td>Slovenian</td>\n    </tr>\n    <tr>\n      <th>62</th>\n      <td>so</td>\n      <td>Somali</td>\n    </tr>\n    <tr>\n      <th>63</th>\n      <td>sq</td>\n      <td>Albanian</td>\n    </tr>\n    <tr>\n      <th>64</th>\n      <td>sr</td>\n      <td>Serbian</td>\n    </tr>\n    <tr>\n      <th>65</th>\n      <td>sv</td>\n      <td>Swedish</td>\n    </tr>\n    <tr>\n      <th>66</th>\n      <td>ta</td>\n      <td>Tamil</td>\n    </tr>\n    <tr>\n      <th>67</th>\n      <td>te</td>\n      <td>Telugu</td>\n    </tr>\n    <tr>\n      <th>68</th>\n      <td>th</td>\n      <td>Thai</td>\n    </tr>\n    <tr>\n      <th>69</th>\n      <td>tl</td>\n      <td>Tagalog</td>\n    </tr>\n    <tr>\n      <th>70</th>\n      <td>tr</td>\n      <td>Turkish</td>\n    </tr>\n    <tr>\n      <th>71</th>\n      <td>uk</td>\n      <td>Ukrainian</td>\n    </tr>\n    <tr>\n      <th>72</th>\n      <td>ur</td>\n      <td>Urdu</td>\n    </tr>\n    <tr>\n      <th>73</th>\n      <td>vi</td>\n      <td>Vietnamese</td>\n    </tr>\n    <tr>\n      <th>74</th>\n      <td>zh</td>\n      <td>Simplified Chinese</td>\n    </tr>\n    <tr>\n      <th>75</th>\n      <td>zh-TW</td>\n      <td>Traditional Chinese</td>\n    </tr>\n  </tbody>\n</table>\n<p>76 rows \u00d7 2 columns</p>\n</div>",
                        "text/plain": "   language                                  name\n0        af                             Afrikaans\n1        ar                                Arabic\n2        az                           Azerbaijani\n3        ba                               Bashkir\n4        be                            Belarusian\n5        bg                             Bulgarian\n6        bn                               Bengali\n7        ca                               Catalan\n8        cs                                 Czech\n9        cv                               Chuvash\n10       cy                                 Welsh\n11       da                                Danish\n12       de                                German\n13       el                                 Greek\n14       en                               English\n15       eo                             Esperanto\n16       es                               Spanish\n17       et                              Estonian\n18       eu                                Basque\n19       fa                               Persian\n20       fi                               Finnish\n21       fr                                French\n22       ga                                 Irish\n23       gu                              Gujarati\n24       he                                Hebrew\n25       hi                                 Hindi\n26       hr                              Croatian\n27       ht                               Haitian\n28       hu                             Hungarian\n29       hy                              Armenian\n..      ...                                   ...\n46       mt                               Maltese\n47       my                               Burmese\n48       nb                      Norwegian Bokmal\n49       ne                                Nepali\n50       nl                                 Dutch\n51       nn                     Norwegian Nynorsk\n52       pa                               Punjabi\n53    pa-PK  Punjabi (Shahmukhi script, Pakistan)\n54       pl                                Polish\n55       ps                                Pushto\n56       pt                            Portuguese\n57       ro                              Romanian\n58       ru                               Russian\n59       si                               Sinhala\n60       sk                             Slovakian\n61       sl                             Slovenian\n62       so                                Somali\n63       sq                              Albanian\n64       sr                               Serbian\n65       sv                               Swedish\n66       ta                                 Tamil\n67       te                                Telugu\n68       th                                  Thai\n69       tl                               Tagalog\n70       tr                               Turkish\n71       uk                             Ukrainian\n72       ur                                  Urdu\n73       vi                            Vietnamese\n74       zh                    Simplified Chinese\n75    zh-TW                   Traditional Chinese\n\n[76 rows x 2 columns]"
                    },
                    "execution_count": 50,
                    "metadata": {},
                    "output_type": "execute_result"
                }
            ],
            "source": "# We will use the method which will return the list of the languages that the service can use\njson_normalize(lang_translator.list_identifiable_languages().get_result(), \"languages\")"
        },
        {
            "cell_type": "code",
            "execution_count": 70,
            "metadata": {},
            "outputs": [],
            "source": "# help(lang_translator)"
        },
        {
            "cell_type": "code",
            "execution_count": 60,
            "metadata": {},
            "outputs": [],
            "source": "# Now we will use the translate method to translate the text of the audio file\n# which will return a dictionary"
        },
        {
            "cell_type": "code",
            "execution_count": 66,
            "metadata": {},
            "outputs": [
                {
                    "data": {
                        "text/plain": "{'translations': [{'translation': \"Dans cette vid\u00e9o, nous couvrirons la r\u00e9gression polynomiale et les pipelines ce que nous faisons quand un mod\u00e8le lin\u00e9aire n'est pas le meilleur ajustement pour nos donn\u00e9es, regardons dans un autre type de mod\u00e8le de r\u00e9gression la r\u00e9gression polynomiale nous transformons nos donn\u00e9es en polyn\u00f4me puis utiliser la r\u00e9gression lin\u00e9aire pour ajuster les param\u00e8tres que nous allons discuter des pipelines sont des moyens de simplifier votre code de r\u00e9gression polynomiale est un cas particulier de la r\u00e9gression lin\u00e9aire g\u00e9n\u00e9rale cette m\u00e9thode est b\u00e9n\u00e9fique pour d\u00e9crire les relations curvilignes Est une relation curviligne, c'est ce que vous obtenez en faisant la quadrature ou en fixant un ordre plus \u00e9lev\u00e9 Les termes des variables de pr\u00e9dicteur dans le mod\u00e8le transformant les donn\u00e9es le mod\u00e8le peut \u00eatre quadratique, ce qui signifie que la variable pr\u00e9dictive dans le mod\u00e8le est squared on utilise un crochet \u00e0 indiqu\u00e9 comme un exposant c'est la r\u00e9gression polynomiale de second ordre avec une figure repr\u00e9sentant la fonction le mod\u00e8le peut \u00eatre cubique, ce qui signifie que la variable pr\u00e9dictive est mignonne, c'est la r\u00e9gression polynomiale de troisi\u00e8me ordre que nous voyons en examinant la figure que la fonction a plus de variation il existe aussi un polyn\u00f4me d'ordre sup\u00e9rieur Les r\u00e9gressions lorsqu'un bon ajustement n'a pas \u00e9t\u00e9 r\u00e9alis\u00e9 par le deuxi\u00e8me ou le troisi\u00e8me ordre que nous pouvons voir dans Chiffres combien les graphiques changent lorsque nous changeons l'ordre de la r\u00e9gression polynomiale le degr\u00e9 de r\u00e9gression fait une grande diff\u00e9rence et peut donner un meilleur ajustement si vous choisissez la bonne valeur dans tous les cas la relation entre la variable dans le param\u00e8tre est toujours lin\u00e9aire let's regarde un exemple de nos donn\u00e9es nous g\u00e9n\u00e9rons un mod\u00e8le de r\u00e9gression polynomiale en python nous le faisons en utilisant la fonction poly fit dans cet exemple nous d\u00e9veloppons un mod\u00e8le de r\u00e9gression polynomiale de troisi\u00e8me ordre que nous pouvons imprimer La forme symbolique du mod\u00e8le pour le mod\u00e8le est donn\u00e9e par l'expression suivante n\u00e9gative un point cinq Cinq sept X. Un mignon plus deux cent quatre points huit X. Un carr\u00e9 plus huit mille neuf cent soixante cinq X. Un plus un point trois sept fois dix \u00e0 la puissance de cinq nous pouvons aussi avoir une r\u00e9gression lin\u00e9aire polynomiale polynomiale l'expression peut \u00eatre compliqu\u00e9 ici ne sont que quelques termes pour deux dimensions de deuxi\u00e8me ordre polynomial aucune tartes poly fit fonction ne peut ex\u00e9cuter ce type de r\u00e9gression nous utilisons le pr\u00e9traitement librarian scikit apprendre \u00e0 cr\u00e9er un objet polynomial Le constructeur prend le degr\u00e9 du polyn\u00f4me en tant que param\u00e8tre, puis nous transformons le Caract\u00e9ristiques en une fonction polynomiale avec la m\u00e9thode de conversion de trait de soulignement permet d'en faire un exemple plus intuitif consid\u00e9rer la fonctionnalit\u00e9 montr\u00e9e ici appliquer la m\u00e9thode que nous transformons les donn\u00e9es nous avons maintenant un nouvel ensemble de fonctionnalit\u00e9s qui sont transform\u00e9es la version de nos fonctionnalit\u00e9s d'origine, car je mentionne que les donn\u00e9es sont plus grandes nous pouvons vouloir normaliser plusieurs fonctions en tant que scikit apprendre \u00e0 la place nous pouvons utiliser le module de pr\u00e9traitement pour simplifier de nombreuses t\u00e2ches par exemple nous pouvons standardiser chaque fonction simultan\u00e9ment que nous importons Scaler standard nous formons l'objet fit l'objet d'\u00e9chelle, puis transformons les donn\u00e9es en un nouvel objet Base de donn\u00e9es sur un taux X. \u00e9chelle de trait de soulignement il y a plus de m\u00e9thodes de normalisation disponibles dans la biblioth\u00e8que de pr\u00e9-traitement ainsi que d'autres transformations nous pouvons simplifier notre code en utilisant une biblioth\u00e8que de pipeline il y a de nombreuses \u00e9tapes pour obtenir une pr\u00e9diction par exemple la transformation polynomiale de normalisation et la r\u00e9gression lin\u00e9aire nous simplifient le processus \u00e0 l'aide d'un pipeline pipeline s\u00e9quentiellement r\u00e9aliser une s\u00e9rie de transformations la derni\u00e8re \u00e9tape r\u00e9alise une pr\u00e9diction d'abord nous importons tous les modules dont nous avons besoin, puis nous importons Le pipeline de la biblioth\u00e8que, nous cr\u00e9ons une liste de piquant le premier \u00e9l\u00e9ment de la chute Contient le nom de l'estimateur mod\u00e8le le second \u00e9l\u00e9ment contient le constructeur mod\u00e8le nous input la liste dans le constructeur du pipeline nous avons maintenant un objet de pipeline nous pouvons former le pipeline en appliquant la m\u00e9thode de train \u00e0 l'objet de pipeline nous pouvons aussi produire une pr\u00e9diction aussi la m\u00e9thode normalise les donn\u00e9es effectue une transformation polynomiale puis les sorties une pr\u00e9diction \"}],\n 'word_count': 680,\n 'character_count': 3960}"
                    },
                    "execution_count": 66,
                    "metadata": {},
                    "output_type": "execute_result"
                }
            ],
            "source": "translation = lang_translator.translate(text = recog_string, model_id = 'en-fr')\ntrans_response = translation.result\ntrans_response"
        },
        {
            "cell_type": "code",
            "execution_count": 69,
            "metadata": {},
            "outputs": [
                {
                    "data": {
                        "text/plain": "\"Dans cette vid\u00e9o, nous couvrirons la r\u00e9gression polynomiale et les pipelines ce que nous faisons quand un mod\u00e8le lin\u00e9aire n'est pas le meilleur ajustement pour nos donn\u00e9es, regardons dans un autre type de mod\u00e8le de r\u00e9gression la r\u00e9gression polynomiale nous transformons nos donn\u00e9es en polyn\u00f4me puis utiliser la r\u00e9gression lin\u00e9aire pour ajuster les param\u00e8tres que nous allons discuter des pipelines sont des moyens de simplifier votre code de r\u00e9gression polynomiale est un cas particulier de la r\u00e9gression lin\u00e9aire g\u00e9n\u00e9rale cette m\u00e9thode est b\u00e9n\u00e9fique pour d\u00e9crire les relations curvilignes Est une relation curviligne, c'est ce que vous obtenez en faisant la quadrature ou en fixant un ordre plus \u00e9lev\u00e9 Les termes des variables de pr\u00e9dicteur dans le mod\u00e8le transformant les donn\u00e9es le mod\u00e8le peut \u00eatre quadratique, ce qui signifie que la variable pr\u00e9dictive dans le mod\u00e8le est squared on utilise un crochet \u00e0 indiqu\u00e9 comme un exposant c'est la r\u00e9gression polynomiale de second ordre avec une figure repr\u00e9sentant la fonction le mod\u00e8le peut \u00eatre cubique, ce qui signifie que la variable pr\u00e9dictive est mignonne, c'est la r\u00e9gression polynomiale de troisi\u00e8me ordre que nous voyons en examinant la figure que la fonction a plus de variation il existe aussi un polyn\u00f4me d'ordre sup\u00e9rieur Les r\u00e9gressions lorsqu'un bon ajustement n'a pas \u00e9t\u00e9 r\u00e9alis\u00e9 par le deuxi\u00e8me ou le troisi\u00e8me ordre que nous pouvons voir dans Chiffres combien les graphiques changent lorsque nous changeons l'ordre de la r\u00e9gression polynomiale le degr\u00e9 de r\u00e9gression fait une grande diff\u00e9rence et peut donner un meilleur ajustement si vous choisissez la bonne valeur dans tous les cas la relation entre la variable dans le param\u00e8tre est toujours lin\u00e9aire let's regarde un exemple de nos donn\u00e9es nous g\u00e9n\u00e9rons un mod\u00e8le de r\u00e9gression polynomiale en python nous le faisons en utilisant la fonction poly fit dans cet exemple nous d\u00e9veloppons un mod\u00e8le de r\u00e9gression polynomiale de troisi\u00e8me ordre que nous pouvons imprimer La forme symbolique du mod\u00e8le pour le mod\u00e8le est donn\u00e9e par l'expression suivante n\u00e9gative un point cinq Cinq sept X. Un mignon plus deux cent quatre points huit X. Un carr\u00e9 plus huit mille neuf cent soixante cinq X. Un plus un point trois sept fois dix \u00e0 la puissance de cinq nous pouvons aussi avoir une r\u00e9gression lin\u00e9aire polynomiale polynomiale l'expression peut \u00eatre compliqu\u00e9 ici ne sont que quelques termes pour deux dimensions de deuxi\u00e8me ordre polynomial aucune tartes poly fit fonction ne peut ex\u00e9cuter ce type de r\u00e9gression nous utilisons le pr\u00e9traitement librarian scikit apprendre \u00e0 cr\u00e9er un objet polynomial Le constructeur prend le degr\u00e9 du polyn\u00f4me en tant que param\u00e8tre, puis nous transformons le Caract\u00e9ristiques en une fonction polynomiale avec la m\u00e9thode de conversion de trait de soulignement permet d'en faire un exemple plus intuitif consid\u00e9rer la fonctionnalit\u00e9 montr\u00e9e ici appliquer la m\u00e9thode que nous transformons les donn\u00e9es nous avons maintenant un nouvel ensemble de fonctionnalit\u00e9s qui sont transform\u00e9es la version de nos fonctionnalit\u00e9s d'origine, car je mentionne que les donn\u00e9es sont plus grandes nous pouvons vouloir normaliser plusieurs fonctions en tant que scikit apprendre \u00e0 la place nous pouvons utiliser le module de pr\u00e9traitement pour simplifier de nombreuses t\u00e2ches par exemple nous pouvons standardiser chaque fonction simultan\u00e9ment que nous importons Scaler standard nous formons l'objet fit l'objet d'\u00e9chelle, puis transformons les donn\u00e9es en un nouvel objet Base de donn\u00e9es sur un taux X. \u00e9chelle de trait de soulignement il y a plus de m\u00e9thodes de normalisation disponibles dans la biblioth\u00e8que de pr\u00e9-traitement ainsi que d'autres transformations nous pouvons simplifier notre code en utilisant une biblioth\u00e8que de pipeline il y a de nombreuses \u00e9tapes pour obtenir une pr\u00e9diction par exemple la transformation polynomiale de normalisation et la r\u00e9gression lin\u00e9aire nous simplifient le processus \u00e0 l'aide d'un pipeline pipeline s\u00e9quentiellement r\u00e9aliser une s\u00e9rie de transformations la derni\u00e8re \u00e9tape r\u00e9alise une pr\u00e9diction d'abord nous importons tous les modules dont nous avons besoin, puis nous importons Le pipeline de la biblioth\u00e8que, nous cr\u00e9ons une liste de piquant le premier \u00e9l\u00e9ment de la chute Contient le nom de l'estimateur mod\u00e8le le second \u00e9l\u00e9ment contient le constructeur mod\u00e8le nous input la liste dans le constructeur du pipeline nous avons maintenant un objet de pipeline nous pouvons former le pipeline en appliquant la m\u00e9thode de train \u00e0 l'objet de pipeline nous pouvons aussi produire une pr\u00e9diction aussi la m\u00e9thode normalise les donn\u00e9es effectue une transformation polynomiale puis les sorties une pr\u00e9diction \""
                    },
                    "execution_count": 69,
                    "metadata": {},
                    "output_type": "execute_result"
                }
            ],
            "source": "# We now need to access the text from the dictionary\nfrench_translation = trans_response['translations'][0]['translation']\nfrench_translation"
        },
        {
            "cell_type": "code",
            "execution_count": null,
            "metadata": {},
            "outputs": [],
            "source": ""
        }
    ],
    "metadata": {
        "kernelspec": {
            "display_name": "Python 3.6",
            "language": "python",
            "name": "python3"
        },
        "language_info": {
            "codemirror_mode": {
                "name": "ipython",
                "version": 3
            },
            "file_extension": ".py",
            "mimetype": "text/x-python",
            "name": "python",
            "nbconvert_exporter": "python",
            "pygments_lexer": "ipython3",
            "version": "3.6.9"
        }
    },
    "nbformat": 4,
    "nbformat_minor": 1
}